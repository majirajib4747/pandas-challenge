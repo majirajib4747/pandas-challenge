{
 "cells": [
  {
   "cell_type": "markdown",
   "metadata": {},
   "source": [
    "# Pymaceuticals Inc.\n",
    "---\n",
    "\n",
    "### Analysis\n",
    "\n",
    "- Add your analysis here.\n",
    " "
   ]
  },
  {
   "cell_type": "code",
   "execution_count": 38,
   "metadata": {},
   "outputs": [
    {
     "data": {
      "text/html": [
       "<div>\n",
       "<style scoped>\n",
       "    .dataframe tbody tr th:only-of-type {\n",
       "        vertical-align: middle;\n",
       "    }\n",
       "\n",
       "    .dataframe tbody tr th {\n",
       "        vertical-align: top;\n",
       "    }\n",
       "\n",
       "    .dataframe thead th {\n",
       "        text-align: right;\n",
       "    }\n",
       "</style>\n",
       "<table border=\"1\" class=\"dataframe\">\n",
       "  <thead>\n",
       "    <tr style=\"text-align: right;\">\n",
       "      <th></th>\n",
       "      <th>Mouse ID</th>\n",
       "      <th>Drug Regimen</th>\n",
       "      <th>Sex</th>\n",
       "      <th>Age_months</th>\n",
       "      <th>Weight (g)</th>\n",
       "      <th>Timepoint</th>\n",
       "      <th>Tumor Volume (mm3)</th>\n",
       "      <th>Metastatic Sites</th>\n",
       "    </tr>\n",
       "  </thead>\n",
       "  <tbody>\n",
       "    <tr>\n",
       "      <th>0</th>\n",
       "      <td>k403</td>\n",
       "      <td>Ramicane</td>\n",
       "      <td>Male</td>\n",
       "      <td>21</td>\n",
       "      <td>16</td>\n",
       "      <td>0</td>\n",
       "      <td>45.000000</td>\n",
       "      <td>0</td>\n",
       "    </tr>\n",
       "    <tr>\n",
       "      <th>1</th>\n",
       "      <td>k403</td>\n",
       "      <td>Ramicane</td>\n",
       "      <td>Male</td>\n",
       "      <td>21</td>\n",
       "      <td>16</td>\n",
       "      <td>5</td>\n",
       "      <td>38.825898</td>\n",
       "      <td>0</td>\n",
       "    </tr>\n",
       "    <tr>\n",
       "      <th>2</th>\n",
       "      <td>k403</td>\n",
       "      <td>Ramicane</td>\n",
       "      <td>Male</td>\n",
       "      <td>21</td>\n",
       "      <td>16</td>\n",
       "      <td>10</td>\n",
       "      <td>35.014271</td>\n",
       "      <td>1</td>\n",
       "    </tr>\n",
       "    <tr>\n",
       "      <th>3</th>\n",
       "      <td>k403</td>\n",
       "      <td>Ramicane</td>\n",
       "      <td>Male</td>\n",
       "      <td>21</td>\n",
       "      <td>16</td>\n",
       "      <td>15</td>\n",
       "      <td>34.223992</td>\n",
       "      <td>1</td>\n",
       "    </tr>\n",
       "    <tr>\n",
       "      <th>4</th>\n",
       "      <td>k403</td>\n",
       "      <td>Ramicane</td>\n",
       "      <td>Male</td>\n",
       "      <td>21</td>\n",
       "      <td>16</td>\n",
       "      <td>20</td>\n",
       "      <td>32.997729</td>\n",
       "      <td>1</td>\n",
       "    </tr>\n",
       "  </tbody>\n",
       "</table>\n",
       "</div>"
      ],
      "text/plain": [
       "  Mouse ID Drug Regimen   Sex  Age_months  Weight (g)  Timepoint  \\\n",
       "0     k403     Ramicane  Male          21          16          0   \n",
       "1     k403     Ramicane  Male          21          16          5   \n",
       "2     k403     Ramicane  Male          21          16         10   \n",
       "3     k403     Ramicane  Male          21          16         15   \n",
       "4     k403     Ramicane  Male          21          16         20   \n",
       "\n",
       "   Tumor Volume (mm3)  Metastatic Sites  \n",
       "0           45.000000                 0  \n",
       "1           38.825898                 0  \n",
       "2           35.014271                 1  \n",
       "3           34.223992                 1  \n",
       "4           32.997729                 1  "
      ]
     },
     "execution_count": 38,
     "metadata": {},
     "output_type": "execute_result"
    }
   ],
   "source": [
    "# Dependencies and Setup\n",
    "import matplotlib.pyplot as plt\n",
    "import pandas as pd\n",
    "import scipy.stats as st\n",
    "from functools import reduce\n",
    "\n",
    "# Study data files\n",
    "mouse_metadata_path = \"data/Mouse_metadata.csv\"\n",
    "study_results_path = \"data/Study_results.csv\"\n",
    "\n",
    "# Read the mouse data and the study results\n",
    "mouse_metadata = pd.read_csv(mouse_metadata_path)\n",
    "study_results = pd.read_csv(study_results_path)\n",
    "\n",
    "# Combine the data into a single DataFrame\n",
    "Mouse_Study_Result_Merge = pd.merge(mouse_metadata, study_results, on='Mouse ID')\n",
    "\n",
    "# Display the data table for preview\n",
    "Mouse_Study_Result_Merge.head()"
   ]
  },
  {
   "cell_type": "code",
   "execution_count": 26,
   "metadata": {},
   "outputs": [
    {
     "name": "stdout",
     "output_type": "stream",
     "text": [
      "249\n"
     ]
    }
   ],
   "source": [
    "# Checking the number of mice.\n",
    "\n",
    "n = len(pd.unique(Mouse_Study_Result_Merge['Mouse ID']))\n",
    "\n",
    "print (n)\n"
   ]
  },
  {
   "cell_type": "code",
   "execution_count": 27,
   "metadata": {
    "scrolled": true
   },
   "outputs": [
    {
     "name": "stdout",
     "output_type": "stream",
     "text": [
      "5\n"
     ]
    }
   ],
   "source": [
    "# Our data should be uniquely identified by Mouse ID and Timepoint\n",
    "# Get the duplicate mice by ID number that shows up for Mouse ID and Timepoint. \n",
    "duplicate_mouse_dataframe = Mouse_Study_Result_Merge[Mouse_Study_Result_Merge.duplicated(['Mouse ID', 'Timepoint'])]\n",
    " \n",
    "\n",
    "print(duplicate_mouse_dataframe[\"Mouse ID\"].count() )"
   ]
  },
  {
   "cell_type": "code",
   "execution_count": 22,
   "metadata": {},
   "outputs": [
    {
     "name": "stdout",
     "output_type": "stream",
     "text": [
      "Duplicate Rows based on Name and Age :\n"
     ]
    },
    {
     "data": {
      "text/html": [
       "<div>\n",
       "<style scoped>\n",
       "    .dataframe tbody tr th:only-of-type {\n",
       "        vertical-align: middle;\n",
       "    }\n",
       "\n",
       "    .dataframe tbody tr th {\n",
       "        vertical-align: top;\n",
       "    }\n",
       "\n",
       "    .dataframe thead th {\n",
       "        text-align: right;\n",
       "    }\n",
       "</style>\n",
       "<table border=\"1\" class=\"dataframe\">\n",
       "  <thead>\n",
       "    <tr style=\"text-align: right;\">\n",
       "      <th></th>\n",
       "      <th>Mouse ID</th>\n",
       "      <th>Drug Regimen</th>\n",
       "      <th>Sex</th>\n",
       "      <th>Age_months</th>\n",
       "      <th>Weight (g)</th>\n",
       "      <th>Timepoint</th>\n",
       "      <th>Tumor Volume (mm3)</th>\n",
       "      <th>Metastatic Sites</th>\n",
       "    </tr>\n",
       "  </thead>\n",
       "  <tbody>\n",
       "    <tr>\n",
       "      <th>909</th>\n",
       "      <td>g989</td>\n",
       "      <td>Propriva</td>\n",
       "      <td>Female</td>\n",
       "      <td>21</td>\n",
       "      <td>26</td>\n",
       "      <td>0</td>\n",
       "      <td>45.000000</td>\n",
       "      <td>0</td>\n",
       "    </tr>\n",
       "    <tr>\n",
       "      <th>911</th>\n",
       "      <td>g989</td>\n",
       "      <td>Propriva</td>\n",
       "      <td>Female</td>\n",
       "      <td>21</td>\n",
       "      <td>26</td>\n",
       "      <td>5</td>\n",
       "      <td>47.570392</td>\n",
       "      <td>0</td>\n",
       "    </tr>\n",
       "    <tr>\n",
       "      <th>913</th>\n",
       "      <td>g989</td>\n",
       "      <td>Propriva</td>\n",
       "      <td>Female</td>\n",
       "      <td>21</td>\n",
       "      <td>26</td>\n",
       "      <td>10</td>\n",
       "      <td>49.880528</td>\n",
       "      <td>0</td>\n",
       "    </tr>\n",
       "    <tr>\n",
       "      <th>915</th>\n",
       "      <td>g989</td>\n",
       "      <td>Propriva</td>\n",
       "      <td>Female</td>\n",
       "      <td>21</td>\n",
       "      <td>26</td>\n",
       "      <td>15</td>\n",
       "      <td>53.442020</td>\n",
       "      <td>0</td>\n",
       "    </tr>\n",
       "    <tr>\n",
       "      <th>917</th>\n",
       "      <td>g989</td>\n",
       "      <td>Propriva</td>\n",
       "      <td>Female</td>\n",
       "      <td>21</td>\n",
       "      <td>26</td>\n",
       "      <td>20</td>\n",
       "      <td>54.657650</td>\n",
       "      <td>1</td>\n",
       "    </tr>\n",
       "  </tbody>\n",
       "</table>\n",
       "</div>"
      ],
      "text/plain": [
       "    Mouse ID Drug Regimen     Sex  Age_months  Weight (g)  Timepoint  \\\n",
       "909     g989     Propriva  Female          21          26          0   \n",
       "911     g989     Propriva  Female          21          26          5   \n",
       "913     g989     Propriva  Female          21          26         10   \n",
       "915     g989     Propriva  Female          21          26         15   \n",
       "917     g989     Propriva  Female          21          26         20   \n",
       "\n",
       "     Tumor Volume (mm3)  Metastatic Sites  \n",
       "909           45.000000                 0  \n",
       "911           47.570392                 0  \n",
       "913           49.880528                 0  \n",
       "915           53.442020                 0  \n",
       "917           54.657650                 1  "
      ]
     },
     "execution_count": 22,
     "metadata": {},
     "output_type": "execute_result"
    }
   ],
   "source": [
    "# Optional: Get all the data for the duplicate mouse ID. \n",
    "print(\"Duplicate Rows based on Mouse ID and Timepoint :\")\n",
    "duplicate_mouse_dataframe"
   ]
  },
  {
   "cell_type": "code",
   "execution_count": 28,
   "metadata": {},
   "outputs": [],
   "source": [
    "# Create a clean DataFrame by dropping the duplicate mouse by its ID.\n",
    "Mouse_Study_Result_Merge_clean = Mouse_Study_Result_Merge.drop_duplicates(subset=['Mouse ID', 'Timepoint'], keep='last')"
   ]
  },
  {
   "cell_type": "code",
   "execution_count": 6,
   "metadata": {},
   "outputs": [
    {
     "data": {
      "text/plain": [
       "248"
      ]
     },
     "execution_count": 6,
     "metadata": {},
     "output_type": "execute_result"
    }
   ],
   "source": [
    "# Checking the number of mice in the clean DataFrame.\n",
    "n = len(pd.unique(Mouse_Study_Result_Merge_clean['Mouse ID']))\n",
    "\n",
    "print (n)"
   ]
  },
  {
   "cell_type": "markdown",
   "metadata": {},
   "source": [
    "## Summary Statistics"
   ]
  },
  {
   "cell_type": "code",
   "execution_count": 42,
   "metadata": {},
   "outputs": [
    {
     "name": "stderr",
     "output_type": "stream",
     "text": [
      "C:\\Users\\RMaji\\AppData\\Local\\Temp\\ipykernel_8744\\848462455.py:15: FutureWarning: this method is deprecated in favour of `Styler.hide(axis=\"index\")`\n",
      "  Mouse_Study_Statistics.style.hide_index()\n"
     ]
    },
    {
     "data": {
      "text/html": [
       "<style type=\"text/css\">\n",
       "</style>\n",
       "<table id=\"T_40a18\">\n",
       "  <thead>\n",
       "    <tr>\n",
       "      <th id=\"T_40a18_level0_col0\" class=\"col_heading level0 col0\" >Drug Regimen</th>\n",
       "      <th id=\"T_40a18_level0_col1\" class=\"col_heading level0 col1\" >mean</th>\n",
       "      <th id=\"T_40a18_level0_col2\" class=\"col_heading level0 col2\" >median</th>\n",
       "      <th id=\"T_40a18_level0_col3\" class=\"col_heading level0 col3\" >var</th>\n",
       "      <th id=\"T_40a18_level0_col4\" class=\"col_heading level0 col4\" >std</th>\n",
       "      <th id=\"T_40a18_level0_col5\" class=\"col_heading level0 col5\" >sem</th>\n",
       "    </tr>\n",
       "  </thead>\n",
       "  <tbody>\n",
       "    <tr>\n",
       "      <td id=\"T_40a18_row0_col0\" class=\"data row0 col0\" >Capomulin</td>\n",
       "      <td id=\"T_40a18_row0_col1\" class=\"data row0 col1\" >40.675741</td>\n",
       "      <td id=\"T_40a18_row0_col2\" class=\"data row0 col2\" >41.557809</td>\n",
       "      <td id=\"T_40a18_row0_col3\" class=\"data row0 col3\" >24.947764</td>\n",
       "      <td id=\"T_40a18_row0_col4\" class=\"data row0 col4\" >4.994774</td>\n",
       "      <td id=\"T_40a18_row0_col5\" class=\"data row0 col5\" >0.329346</td>\n",
       "    </tr>\n",
       "    <tr>\n",
       "      <td id=\"T_40a18_row1_col0\" class=\"data row1 col0\" >Ceftamin</td>\n",
       "      <td id=\"T_40a18_row1_col1\" class=\"data row1 col1\" >52.591172</td>\n",
       "      <td id=\"T_40a18_row1_col2\" class=\"data row1 col2\" >51.776157</td>\n",
       "      <td id=\"T_40a18_row1_col3\" class=\"data row1 col3\" >39.290177</td>\n",
       "      <td id=\"T_40a18_row1_col4\" class=\"data row1 col4\" >6.268188</td>\n",
       "      <td id=\"T_40a18_row1_col5\" class=\"data row1 col5\" >0.469821</td>\n",
       "    </tr>\n",
       "    <tr>\n",
       "      <td id=\"T_40a18_row2_col0\" class=\"data row2 col0\" >Infubinol</td>\n",
       "      <td id=\"T_40a18_row2_col1\" class=\"data row2 col1\" >52.884795</td>\n",
       "      <td id=\"T_40a18_row2_col2\" class=\"data row2 col2\" >51.820584</td>\n",
       "      <td id=\"T_40a18_row2_col3\" class=\"data row2 col3\" >43.128684</td>\n",
       "      <td id=\"T_40a18_row2_col4\" class=\"data row2 col4\" >6.567243</td>\n",
       "      <td id=\"T_40a18_row2_col5\" class=\"data row2 col5\" >0.492236</td>\n",
       "    </tr>\n",
       "    <tr>\n",
       "      <td id=\"T_40a18_row3_col0\" class=\"data row3 col0\" >Ketapril</td>\n",
       "      <td id=\"T_40a18_row3_col1\" class=\"data row3 col1\" >55.235638</td>\n",
       "      <td id=\"T_40a18_row3_col2\" class=\"data row3 col2\" >53.698743</td>\n",
       "      <td id=\"T_40a18_row3_col3\" class=\"data row3 col3\" >68.553577</td>\n",
       "      <td id=\"T_40a18_row3_col4\" class=\"data row3 col4\" >8.279709</td>\n",
       "      <td id=\"T_40a18_row3_col5\" class=\"data row3 col5\" >0.603860</td>\n",
       "    </tr>\n",
       "    <tr>\n",
       "      <td id=\"T_40a18_row4_col0\" class=\"data row4 col0\" >Naftisol</td>\n",
       "      <td id=\"T_40a18_row4_col1\" class=\"data row4 col1\" >54.331565</td>\n",
       "      <td id=\"T_40a18_row4_col2\" class=\"data row4 col2\" >52.509285</td>\n",
       "      <td id=\"T_40a18_row4_col3\" class=\"data row4 col3\" >66.173479</td>\n",
       "      <td id=\"T_40a18_row4_col4\" class=\"data row4 col4\" >8.134708</td>\n",
       "      <td id=\"T_40a18_row4_col5\" class=\"data row4 col5\" >0.596466</td>\n",
       "    </tr>\n",
       "    <tr>\n",
       "      <td id=\"T_40a18_row5_col0\" class=\"data row5 col0\" >Placebo</td>\n",
       "      <td id=\"T_40a18_row5_col1\" class=\"data row5 col1\" >54.033581</td>\n",
       "      <td id=\"T_40a18_row5_col2\" class=\"data row5 col2\" >52.288934</td>\n",
       "      <td id=\"T_40a18_row5_col3\" class=\"data row5 col3\" >61.168083</td>\n",
       "      <td id=\"T_40a18_row5_col4\" class=\"data row5 col4\" >7.821003</td>\n",
       "      <td id=\"T_40a18_row5_col5\" class=\"data row5 col5\" >0.581331</td>\n",
       "    </tr>\n",
       "    <tr>\n",
       "      <td id=\"T_40a18_row6_col0\" class=\"data row6 col0\" >Propriva</td>\n",
       "      <td id=\"T_40a18_row6_col1\" class=\"data row6 col1\" >52.382993</td>\n",
       "      <td id=\"T_40a18_row6_col2\" class=\"data row6 col2\" >50.783528</td>\n",
       "      <td id=\"T_40a18_row6_col3\" class=\"data row6 col3\" >43.220205</td>\n",
       "      <td id=\"T_40a18_row6_col4\" class=\"data row6 col4\" >6.574208</td>\n",
       "      <td id=\"T_40a18_row6_col5\" class=\"data row6 col5\" >0.526358</td>\n",
       "    </tr>\n",
       "    <tr>\n",
       "      <td id=\"T_40a18_row7_col0\" class=\"data row7 col0\" >Ramicane</td>\n",
       "      <td id=\"T_40a18_row7_col1\" class=\"data row7 col1\" >40.216745</td>\n",
       "      <td id=\"T_40a18_row7_col2\" class=\"data row7 col2\" >40.673236</td>\n",
       "      <td id=\"T_40a18_row7_col3\" class=\"data row7 col3\" >23.486704</td>\n",
       "      <td id=\"T_40a18_row7_col4\" class=\"data row7 col4\" >4.846308</td>\n",
       "      <td id=\"T_40a18_row7_col5\" class=\"data row7 col5\" >0.320955</td>\n",
       "    </tr>\n",
       "    <tr>\n",
       "      <td id=\"T_40a18_row8_col0\" class=\"data row8 col0\" >Stelasyn</td>\n",
       "      <td id=\"T_40a18_row8_col1\" class=\"data row8 col1\" >54.233149</td>\n",
       "      <td id=\"T_40a18_row8_col2\" class=\"data row8 col2\" >52.431737</td>\n",
       "      <td id=\"T_40a18_row8_col3\" class=\"data row8 col3\" >59.450562</td>\n",
       "      <td id=\"T_40a18_row8_col4\" class=\"data row8 col4\" >7.710419</td>\n",
       "      <td id=\"T_40a18_row8_col5\" class=\"data row8 col5\" >0.573111</td>\n",
       "    </tr>\n",
       "    <tr>\n",
       "      <td id=\"T_40a18_row9_col0\" class=\"data row9 col0\" >Zoniferol</td>\n",
       "      <td id=\"T_40a18_row9_col1\" class=\"data row9 col1\" >53.236507</td>\n",
       "      <td id=\"T_40a18_row9_col2\" class=\"data row9 col2\" >51.818479</td>\n",
       "      <td id=\"T_40a18_row9_col3\" class=\"data row9 col3\" >48.533355</td>\n",
       "      <td id=\"T_40a18_row9_col4\" class=\"data row9 col4\" >6.966589</td>\n",
       "      <td id=\"T_40a18_row9_col5\" class=\"data row9 col5\" >0.516398</td>\n",
       "    </tr>\n",
       "  </tbody>\n",
       "</table>\n"
      ],
      "text/plain": [
       "<pandas.io.formats.style.Styler at 0x1ff6302f1c0>"
      ]
     },
     "execution_count": 42,
     "metadata": {},
     "output_type": "execute_result"
    }
   ],
   "source": [
    "# import reduce function \n",
    "from functools import reduce\n",
    "\n",
    "# Generate a summary statistics table of mean, median, variance, standard deviation, and SEM of the tumor volume for each regimen\n",
    "Mouse_Study_Result_Merge_clea_mean = Mouse_Study_Result_Merge_clean.groupby(\"Drug Regimen\")[\"Tumor Volume (mm3)\"].mean().reset_index(name=\"mean\")\n",
    "Mouse_Study_Result_Merge_clea_median = Mouse_Study_Result_Merge_clean.groupby(\"Drug Regimen\")[\"Tumor Volume (mm3)\"].median().reset_index(name=\"median\")\n",
    "Mouse_Study_Result_Merge_clea_var = Mouse_Study_Result_Merge_clean.groupby(\"Drug Regimen\")[\"Tumor Volume (mm3)\"].var().reset_index(name=\"var\")\n",
    "Mouse_Study_Result_Merge_clea_std = Mouse_Study_Result_Merge_clean.groupby(\"Drug Regimen\")[\"Tumor Volume (mm3)\"].std().reset_index(name=\"std\")\n",
    "Mouse_Study_Result_Merge_clea_sem = Mouse_Study_Result_Merge_clean.groupby(\"Drug Regimen\")[\"Tumor Volume (mm3)\"].sem().reset_index(name=\"sem\")\n",
    "data_frames = [Mouse_Study_Result_Merge_clea_mean, Mouse_Study_Result_Merge_clea_median, Mouse_Study_Result_Merge_clea_var ,Mouse_Study_Result_Merge_clea_std , Mouse_Study_Result_Merge_clea_sem]\n",
    "Mouse_Study_Statistics = reduce(lambda  left,right: pd.merge(left,right,on=['Drug Regimen'],\n",
    "                                            how='outer'), data_frames)\n",
    "\n",
    "#display(Mouse_Study_Statistics)\n",
    "Mouse_Study_Statistics.style.hide_index()\n",
    "#Mouse_Study_Statistics.to_string(index=False)\n",
    "# Use groupby and summary statistical methods to calculate the following properties of each drug regimen: \n",
    "# mean, median, variance, standard deviation, and SEM of the tumor volume. \n",
    "# Assemble the resulting series into a single summary DataFrame.\n"
   ]
  },
  {
   "cell_type": "code",
   "execution_count": 46,
   "metadata": {},
   "outputs": [
    {
     "name": "stdout",
     "output_type": "stream",
     "text": [
      "                                Tumor Volume (mm3) \n"
     ]
    },
    {
     "name": "stderr",
     "output_type": "stream",
     "text": [
      "C:\\Users\\RMaji\\AppData\\Local\\Temp\\ipykernel_8744\\1250219387.py:6: FutureWarning: this method is deprecated in favour of `Styler.hide(axis=\"index\")`\n",
      "  Mouse_Study_Statistics.style.hide_index()\n"
     ]
    },
    {
     "data": {
      "text/html": [
       "<style type=\"text/css\">\n",
       "</style>\n",
       "<table id=\"T_52dd5\">\n",
       "  <thead>\n",
       "    <tr>\n",
       "      <th id=\"T_52dd5_level0_col0\" class=\"col_heading level0 col0\" >Drug Regimen</th>\n",
       "      <th id=\"T_52dd5_level0_col1\" class=\"col_heading level0 col1\" >mean</th>\n",
       "      <th id=\"T_52dd5_level0_col2\" class=\"col_heading level0 col2\" >median</th>\n",
       "      <th id=\"T_52dd5_level0_col3\" class=\"col_heading level0 col3\" >var</th>\n",
       "      <th id=\"T_52dd5_level0_col4\" class=\"col_heading level0 col4\" >std</th>\n",
       "      <th id=\"T_52dd5_level0_col5\" class=\"col_heading level0 col5\" >sem</th>\n",
       "    </tr>\n",
       "  </thead>\n",
       "  <tbody>\n",
       "    <tr>\n",
       "      <td id=\"T_52dd5_row0_col0\" class=\"data row0 col0\" >Capomulin</td>\n",
       "      <td id=\"T_52dd5_row0_col1\" class=\"data row0 col1\" >40.675741</td>\n",
       "      <td id=\"T_52dd5_row0_col2\" class=\"data row0 col2\" >41.557809</td>\n",
       "      <td id=\"T_52dd5_row0_col3\" class=\"data row0 col3\" >24.947764</td>\n",
       "      <td id=\"T_52dd5_row0_col4\" class=\"data row0 col4\" >4.994774</td>\n",
       "      <td id=\"T_52dd5_row0_col5\" class=\"data row0 col5\" >0.329346</td>\n",
       "    </tr>\n",
       "    <tr>\n",
       "      <td id=\"T_52dd5_row1_col0\" class=\"data row1 col0\" >Ceftamin</td>\n",
       "      <td id=\"T_52dd5_row1_col1\" class=\"data row1 col1\" >52.591172</td>\n",
       "      <td id=\"T_52dd5_row1_col2\" class=\"data row1 col2\" >51.776157</td>\n",
       "      <td id=\"T_52dd5_row1_col3\" class=\"data row1 col3\" >39.290177</td>\n",
       "      <td id=\"T_52dd5_row1_col4\" class=\"data row1 col4\" >6.268188</td>\n",
       "      <td id=\"T_52dd5_row1_col5\" class=\"data row1 col5\" >0.469821</td>\n",
       "    </tr>\n",
       "    <tr>\n",
       "      <td id=\"T_52dd5_row2_col0\" class=\"data row2 col0\" >Infubinol</td>\n",
       "      <td id=\"T_52dd5_row2_col1\" class=\"data row2 col1\" >52.884795</td>\n",
       "      <td id=\"T_52dd5_row2_col2\" class=\"data row2 col2\" >51.820584</td>\n",
       "      <td id=\"T_52dd5_row2_col3\" class=\"data row2 col3\" >43.128684</td>\n",
       "      <td id=\"T_52dd5_row2_col4\" class=\"data row2 col4\" >6.567243</td>\n",
       "      <td id=\"T_52dd5_row2_col5\" class=\"data row2 col5\" >0.492236</td>\n",
       "    </tr>\n",
       "    <tr>\n",
       "      <td id=\"T_52dd5_row3_col0\" class=\"data row3 col0\" >Ketapril</td>\n",
       "      <td id=\"T_52dd5_row3_col1\" class=\"data row3 col1\" >55.235638</td>\n",
       "      <td id=\"T_52dd5_row3_col2\" class=\"data row3 col2\" >53.698743</td>\n",
       "      <td id=\"T_52dd5_row3_col3\" class=\"data row3 col3\" >68.553577</td>\n",
       "      <td id=\"T_52dd5_row3_col4\" class=\"data row3 col4\" >8.279709</td>\n",
       "      <td id=\"T_52dd5_row3_col5\" class=\"data row3 col5\" >0.603860</td>\n",
       "    </tr>\n",
       "    <tr>\n",
       "      <td id=\"T_52dd5_row4_col0\" class=\"data row4 col0\" >Naftisol</td>\n",
       "      <td id=\"T_52dd5_row4_col1\" class=\"data row4 col1\" >54.331565</td>\n",
       "      <td id=\"T_52dd5_row4_col2\" class=\"data row4 col2\" >52.509285</td>\n",
       "      <td id=\"T_52dd5_row4_col3\" class=\"data row4 col3\" >66.173479</td>\n",
       "      <td id=\"T_52dd5_row4_col4\" class=\"data row4 col4\" >8.134708</td>\n",
       "      <td id=\"T_52dd5_row4_col5\" class=\"data row4 col5\" >0.596466</td>\n",
       "    </tr>\n",
       "    <tr>\n",
       "      <td id=\"T_52dd5_row5_col0\" class=\"data row5 col0\" >Placebo</td>\n",
       "      <td id=\"T_52dd5_row5_col1\" class=\"data row5 col1\" >54.033581</td>\n",
       "      <td id=\"T_52dd5_row5_col2\" class=\"data row5 col2\" >52.288934</td>\n",
       "      <td id=\"T_52dd5_row5_col3\" class=\"data row5 col3\" >61.168083</td>\n",
       "      <td id=\"T_52dd5_row5_col4\" class=\"data row5 col4\" >7.821003</td>\n",
       "      <td id=\"T_52dd5_row5_col5\" class=\"data row5 col5\" >0.581331</td>\n",
       "    </tr>\n",
       "    <tr>\n",
       "      <td id=\"T_52dd5_row6_col0\" class=\"data row6 col0\" >Propriva</td>\n",
       "      <td id=\"T_52dd5_row6_col1\" class=\"data row6 col1\" >52.382993</td>\n",
       "      <td id=\"T_52dd5_row6_col2\" class=\"data row6 col2\" >50.783528</td>\n",
       "      <td id=\"T_52dd5_row6_col3\" class=\"data row6 col3\" >43.220205</td>\n",
       "      <td id=\"T_52dd5_row6_col4\" class=\"data row6 col4\" >6.574208</td>\n",
       "      <td id=\"T_52dd5_row6_col5\" class=\"data row6 col5\" >0.526358</td>\n",
       "    </tr>\n",
       "    <tr>\n",
       "      <td id=\"T_52dd5_row7_col0\" class=\"data row7 col0\" >Ramicane</td>\n",
       "      <td id=\"T_52dd5_row7_col1\" class=\"data row7 col1\" >40.216745</td>\n",
       "      <td id=\"T_52dd5_row7_col2\" class=\"data row7 col2\" >40.673236</td>\n",
       "      <td id=\"T_52dd5_row7_col3\" class=\"data row7 col3\" >23.486704</td>\n",
       "      <td id=\"T_52dd5_row7_col4\" class=\"data row7 col4\" >4.846308</td>\n",
       "      <td id=\"T_52dd5_row7_col5\" class=\"data row7 col5\" >0.320955</td>\n",
       "    </tr>\n",
       "    <tr>\n",
       "      <td id=\"T_52dd5_row8_col0\" class=\"data row8 col0\" >Stelasyn</td>\n",
       "      <td id=\"T_52dd5_row8_col1\" class=\"data row8 col1\" >54.233149</td>\n",
       "      <td id=\"T_52dd5_row8_col2\" class=\"data row8 col2\" >52.431737</td>\n",
       "      <td id=\"T_52dd5_row8_col3\" class=\"data row8 col3\" >59.450562</td>\n",
       "      <td id=\"T_52dd5_row8_col4\" class=\"data row8 col4\" >7.710419</td>\n",
       "      <td id=\"T_52dd5_row8_col5\" class=\"data row8 col5\" >0.573111</td>\n",
       "    </tr>\n",
       "    <tr>\n",
       "      <td id=\"T_52dd5_row9_col0\" class=\"data row9 col0\" >Zoniferol</td>\n",
       "      <td id=\"T_52dd5_row9_col1\" class=\"data row9 col1\" >53.236507</td>\n",
       "      <td id=\"T_52dd5_row9_col2\" class=\"data row9 col2\" >51.818479</td>\n",
       "      <td id=\"T_52dd5_row9_col3\" class=\"data row9 col3\" >48.533355</td>\n",
       "      <td id=\"T_52dd5_row9_col4\" class=\"data row9 col4\" >6.966589</td>\n",
       "      <td id=\"T_52dd5_row9_col5\" class=\"data row9 col5\" >0.516398</td>\n",
       "    </tr>\n",
       "  </tbody>\n",
       "</table>\n"
      ],
      "text/plain": [
       "<pandas.io.formats.style.Styler at 0x1ff6638f4c0>"
      ]
     },
     "execution_count": 46,
     "metadata": {},
     "output_type": "execute_result"
    }
   ],
   "source": [
    "# A more advanced method to generate a summary statistics table of mean, median, variance, standard deviation,\n",
    "# and SEM of the tumor volume for each regimen (only one method is required in the solution)\n",
    "\n",
    "# Using the aggregation method, produce the same summary statistics in a single line\n",
    "print ( \"                                Tumor Volume (mm3) \")\n",
    "Mouse_Study_Statistics.style.hide_index()"
   ]
  },
  {
   "cell_type": "markdown",
   "metadata": {},
   "source": [
    "## Bar and Pie Charts"
   ]
  },
  {
   "cell_type": "code",
   "execution_count": 53,
   "metadata": {},
   "outputs": [
    {
     "data": {
      "text/plain": [
       "Text(0, 0.5, '# of observed Mouse Timepoints')"
      ]
     },
     "execution_count": 53,
     "metadata": {},
     "output_type": "execute_result"
    },
    {
     "data": {
      "image/png": "[encoded data removed]",
      "text/plain": [
       "<Figure size 1000x500 with 1 Axes>"
      ]
     },
     "metadata": {},
     "output_type": "display_data"
    }
   ],
   "source": [
    "# Generate a bar plot showing the total number of rows (Mouse ID/Timepoints) for each drug regimen using Pandas.\n",
    "mouse_count_dataframe = Mouse_Study_Result_Merge_clean.groupby(\"Drug Regimen\")[\"Mouse ID\"].count().reset_index(name=\"Count\")\n",
    "mouse_count_dataframe\n",
    "bar_plot_panda= mouse_count_dataframe.plot.bar(x='Drug Regimen', y='Count', rot=90,figsize=(10, 5),legend=False)\n",
    "bar_plot_panda.set_ylabel(\"# of observed Mouse Timepoints\")"
   ]
  },
  {
   "cell_type": "code",
   "execution_count": 56,
   "metadata": {},
   "outputs": [
    {
     "data": {
      "image/png": "[encoded data removed]",
      "text/plain": [
       "<Figure size 1000x500 with 1 Axes>"
      ]
     },
     "metadata": {},
     "output_type": "display_data"
    }
   ],
   "source": [
    "# Generate a bar plot showing the total number of rows (Mouse ID/Timepoints) for each drug regimen using pyplot.\n",
    "drug_name = list(mouse_count_dataframe[\"Drug Regimen\"])\n",
    "counts = list(mouse_count_dataframe[\"Count\"])\n",
    "\n",
    "fig = plt.figure(figsize = (10, 5))\n",
    " \n",
    "# creating the bar plot\n",
    "plt.bar(drug_name, counts, \n",
    "        width = 0.4)\n",
    " \n",
    "plt.xlabel(\"Drug Regimen\")\n",
    "plt.ylabel(\"# of observed Mouse Timepoints\")\n",
    "plt.xticks(rotation='vertical')\n",
    "plt.show()"
   ]
  },
  {
   "cell_type": "code",
   "execution_count": 83,
   "metadata": {},
   "outputs": [
    {
     "data": {
      "image/png": "[encoded data removed]",
      "text/plain": [
       "<Figure size 500x500 with 1 Axes>"
      ]
     },
     "metadata": {},
     "output_type": "display_data"
    }
   ],
   "source": [
    "# Generate a pie plot showing the distribution of female versus male mice using Pandas\n",
    "\n",
    "mouse_count_dataframe_sex = Mouse_Study_Result_Merge_clean.groupby(\"Sex\")[\"Mouse ID\"].count().reset_index(name=\"Count\")\n",
    "Total_count = len(Mouse_Study_Result_Merge_clean. index)\n",
    "\n",
    "mouse_count_dataframe_sex[\"Count\"] = ((mouse_count_dataframe_sex[\"Count\"] / Total_count ) * 100).round(0) \n",
    "mouse_count_dataframe_sex\n",
    "sex_labels=['Female','Male']\n",
    "plot = mouse_count_dataframe_sex.plot.pie(y='Count', figsize=(5, 5),labels=sex_labels,legend=False,autopct='%1.1f%%')\n"
   ]
  },
  {
   "cell_type": "code",
   "execution_count": 89,
   "metadata": {},
   "outputs": [
    {
     "data": {
      "image/png": "[encoded data removed]",
      "text/plain": [
       "<Figure size 640x480 with 1 Axes>"
      ]
     },
     "metadata": {},
     "output_type": "display_data"
    }
   ],
   "source": [
    "# Generate a pie plot showing the distribution of female versus male mice using pyplot\n",
    "import numpy as np\n",
    "y = np.array(mouse_count_dataframe_sex[\"Count\"])\n",
    "sex_labels=['Female','Male']\n",
    "plt.pie(y,labels=sex_labels,autopct='%1.1f%%')\n",
    "plt.show()"
   ]
  },
  {
   "cell_type": "markdown",
   "metadata": {},
   "source": [
    "## Quartiles, Outliers and Boxplots"
   ]
  },
  {
   "cell_type": "code",
   "execution_count": 201,
   "metadata": {},
   "outputs": [
    {
     "data": {
      "text/html": [
       "<div>\n",
       "<style scoped>\n",
       "    .dataframe tbody tr th:only-of-type {\n",
       "        vertical-align: middle;\n",
       "    }\n",
       "\n",
       "    .dataframe tbody tr th {\n",
       "        vertical-align: top;\n",
       "    }\n",
       "\n",
       "    .dataframe thead th {\n",
       "        text-align: right;\n",
       "    }\n",
       "</style>\n",
       "<table border=\"1\" class=\"dataframe\">\n",
       "  <thead>\n",
       "    <tr style=\"text-align: right;\">\n",
       "      <th></th>\n",
       "      <th>Mouse ID</th>\n",
       "      <th>Timepoint</th>\n",
       "      <th>Tumor Volume (mm3)</th>\n",
       "      <th>Drug Regimen</th>\n",
       "    </tr>\n",
       "  </thead>\n",
       "  <tbody>\n",
       "    <tr>\n",
       "      <th>9</th>\n",
       "      <td>k403</td>\n",
       "      <td>45</td>\n",
       "      <td>22.050126</td>\n",
       "      <td>Ramicane</td>\n",
       "    </tr>\n",
       "    <tr>\n",
       "      <th>19</th>\n",
       "      <td>s185</td>\n",
       "      <td>45</td>\n",
       "      <td>23.343598</td>\n",
       "      <td>Capomulin</td>\n",
       "    </tr>\n",
       "    <tr>\n",
       "      <th>29</th>\n",
       "      <td>x401</td>\n",
       "      <td>45</td>\n",
       "      <td>28.484033</td>\n",
       "      <td>Capomulin</td>\n",
       "    </tr>\n",
       "    <tr>\n",
       "      <th>39</th>\n",
       "      <td>m601</td>\n",
       "      <td>45</td>\n",
       "      <td>28.430964</td>\n",
       "      <td>Capomulin</td>\n",
       "    </tr>\n",
       "    <tr>\n",
       "      <th>49</th>\n",
       "      <td>g791</td>\n",
       "      <td>45</td>\n",
       "      <td>29.128472</td>\n",
       "      <td>Ramicane</td>\n",
       "    </tr>\n",
       "    <tr>\n",
       "      <th>...</th>\n",
       "      <td>...</td>\n",
       "      <td>...</td>\n",
       "      <td>...</td>\n",
       "      <td>...</td>\n",
       "    </tr>\n",
       "    <tr>\n",
       "      <th>1797</th>\n",
       "      <td>x822</td>\n",
       "      <td>45</td>\n",
       "      <td>61.386660</td>\n",
       "      <td>Ceftamin</td>\n",
       "    </tr>\n",
       "    <tr>\n",
       "      <th>1813</th>\n",
       "      <td>y163</td>\n",
       "      <td>45</td>\n",
       "      <td>67.685569</td>\n",
       "      <td>Infubinol</td>\n",
       "    </tr>\n",
       "    <tr>\n",
       "      <th>1845</th>\n",
       "      <td>y769</td>\n",
       "      <td>45</td>\n",
       "      <td>68.594745</td>\n",
       "      <td>Ceftamin</td>\n",
       "    </tr>\n",
       "    <tr>\n",
       "      <th>1855</th>\n",
       "      <td>y865</td>\n",
       "      <td>45</td>\n",
       "      <td>64.729837</td>\n",
       "      <td>Ceftamin</td>\n",
       "    </tr>\n",
       "    <tr>\n",
       "      <th>1872</th>\n",
       "      <td>z581</td>\n",
       "      <td>45</td>\n",
       "      <td>62.754451</td>\n",
       "      <td>Infubinol</td>\n",
       "    </tr>\n",
       "  </tbody>\n",
       "</table>\n",
       "<p>63 rows × 4 columns</p>\n",
       "</div>"
      ],
      "text/plain": [
       "     Mouse ID  Timepoint  Tumor Volume (mm3) Drug Regimen\n",
       "9        k403         45           22.050126     Ramicane\n",
       "19       s185         45           23.343598    Capomulin\n",
       "29       x401         45           28.484033    Capomulin\n",
       "39       m601         45           28.430964    Capomulin\n",
       "49       g791         45           29.128472     Ramicane\n",
       "...       ...        ...                 ...          ...\n",
       "1797     x822         45           61.386660     Ceftamin\n",
       "1813     y163         45           67.685569    Infubinol\n",
       "1845     y769         45           68.594745     Ceftamin\n",
       "1855     y865         45           64.729837     Ceftamin\n",
       "1872     z581         45           62.754451    Infubinol\n",
       "\n",
       "[63 rows x 4 columns]"
      ]
     },
     "execution_count": 201,
     "metadata": {},
     "output_type": "execute_result"
    }
   ],
   "source": [
    "# Calculate the final tumor volume of each mouse across four of the treatment regimens:  \n",
    "# Capomulin, Ramicane, Infubinol, and Ceftamin\n",
    "dataframe = pd.DataFrame(Mouse_Study_Result_Merge_clean, columns = ['Mouse ID','Timepoint', 'Tumor Volume (mm3)' , 'Drug Regimen'])\n",
    "rslt_df_drug_regimen = dataframe[(dataframe['Drug Regimen'] == 'Capomulin') |(dataframe['Drug Regimen'] == 'Ramicane') | (dataframe['Drug Regimen'] == 'Infubinol') | (dataframe['Drug Regimen'] == 'Ceftamin')]\n",
    "\n",
    "# Start by getting the last (greatest) timepoint for each mouse\n",
    "rslt_df_drug_regimen_last_timepoint = rslt_df_drug_regimen[(rslt_df_drug_regimen['Timepoint'] == 45)]\n",
    "\n",
    "# Merge this group df with the original DataFrame to get the tumor volume at the last timepoint\n",
    "rslt_df_drug_regimen_last_timepoint"
   ]
  },
  {
   "cell_type": "code",
   "execution_count": 233,
   "metadata": {},
   "outputs": [
    {
     "name": "stdout",
     "output_type": "stream",
     "text": [
      " Total Capomulin data 230\n",
      " Total Capomulin data within range 230\n",
      " Total Ramicane data 228\n",
      " Total Ramicane data within range 228\n",
      " Total Infubinol data 178\n",
      " Total Infubinol data within range 178\n",
      " Total Ceftamin data 178\n",
      " Total Ceftamin data within range 178\n"
     ]
    }
   ],
   "source": [
    "# Put treatments into a list for for loop (and later for plot labels)\n",
    "rslt_df_drug_regimen_last_timepoint\n",
    " \n",
    "dataframe = pd.DataFrame(Mouse_Study_Result_Merge_clean, columns = [ 'Tumor Volume (mm3)' , 'Drug Regimen'])\n",
    "\n",
    "\n",
    "#dataframe_drun_regimen\n",
    "dataframe_Capomulin = dataframe[(dataframe['Drug Regimen'] == 'Capomulin')] \n",
    "dataframe_Ramicane = dataframe[(dataframe['Drug Regimen'] == 'Ramicane')]\n",
    "dataframe_Infubinol = dataframe[(dataframe['Drug Regimen'] == 'Infubinol')]\n",
    "dataframe_Ceftamin = dataframe[(dataframe['Drug Regimen'] == 'Ceftamin')]\n",
    "dataframe_Capomulin_all4 = dataframe[(dataframe['Drug Regimen'] == 'Capomulin') | \n",
    "                                     (dataframe['Drug Regimen'] == 'Ramicane')  | \n",
    "                                     (dataframe['Drug Regimen'] == 'Infubinol') |\n",
    "                                     (dataframe['Drug Regimen'] == 'Ceftamin')]                                              ]\n",
    "# Create empty list to fill with tumor vol data (for plotting)\n",
    "list_Capomulin = dataframe_Capomulin[\"Tumor Volume (mm3)\"].values.tolist()\n",
    "list_Ramicane = dataframe_Ramicane[\"Tumor Volume (mm3)\"].values.tolist()\n",
    "list_Infubinol = dataframe_Infubinol[\"Tumor Volume (mm3)\"].values.tolist()\n",
    "list_Ceftamin = dataframe_Ceftamin[\"Tumor Volume (mm3)\"].values.tolist()\n",
    "\n",
    "\n",
    "# Calculate the IQR and quantitatively determine if there are any potential outliers. \n",
    "#For Capomulin\n",
    "q3_Capomulin, q1_Capomulin = np.percentile(list_Capomulin, [75, 25])\n",
    "IQR_Capomulin = q3_Capomulin - q1_Capomulin\n",
    "upper_bound_Capomulin = q3_Capomulin + 1.5 * IQR_Capomulin\n",
    "lower_bound_Capomulin = q1_Capomulin - 1.5 * IQR_Capomulin\n",
    "list_Capomulin_withinrange = []\n",
    "\n",
    "for item in list_Capomulin :\n",
    "    if item <= upper_bound_Capomulin or item >= lower_bound_Capomulin :\n",
    "        list_Capomulin_withinrange.append(item)\n",
    "\n",
    "print(f\" Total Capomulin data {len(list_Capomulin)}\")  \n",
    "\n",
    "print(f\" Total Capomulin data within range {len(list_Capomulin_withinrange)}\")\n",
    "\n",
    "#For Ramicane\n",
    "q3_Ramicane, q1_Ramicane = np.percentile(list_Ramicane, [75, 25])\n",
    "IQR_Ramicane = q3_Ramicane - q1_Ramicane\n",
    "upper_bound_Ramicane = q3_Ramicane + 1.5 * IQR_Ramicane\n",
    "lower_bound_Ramicane = q1_Ramicane - 1.5 * IQR_Ramicane\n",
    "list_Ramicane_withinrange = []\n",
    "\n",
    "for item in list_Ramicane :\n",
    "    if item <= upper_bound_Ramicane or item >= lower_bound_Ramicane :\n",
    "        list_Ramicane_withinrange.append(item)\n",
    "\n",
    "print(f\" Total Ramicane data {len(list_Ramicane)}\")  \n",
    "\n",
    "print(f\" Total Ramicane data within range {len(list_Ramicane_withinrange)}\")\n",
    "\n",
    "#For Infubinol\n",
    "q3_Infubinol, q1_Infubinol = np.percentile(list_Infubinol, [75, 25])\n",
    "IQR_Infubinol = q3_Infubinol - q1_Infubinol\n",
    "upper_bound_Infubinol = q3_Infubinol + 1.5 * IQR_Infubinol\n",
    "lower_bound_Infubinol = q1_Infubinol - 1.5 * IQR_Infubinol\n",
    "list_Infubinol_withinrange = []\n",
    "\n",
    "for item in list_Infubinol :\n",
    "    if item < upper_bound_Infubinol or item > lower_bound_Infubinol :\n",
    "        list_Infubinol_withinrange.append(item)\n",
    "\n",
    "print(f\" Total Infubinol data {len(list_Infubinol)}\")  \n",
    "\n",
    "print(f\" Total Infubinol data within range {len(list_Infubinol_withinrange)}\")\n",
    "    # Locate the rows which contain mice on each drug and get the tumor volumes\n",
    "    \n",
    "#For Ceftamin\n",
    "q3_Ceftamin, q1_Ceftamin = np.percentile(list_Ceftamin, [75, 25])\n",
    "IQR_Ceftamin = q3_Ceftamin - q1_Ceftamin\n",
    "upper_bound_Ceftamin = q3_Ceftamin + 1.5 * IQR_Ceftamin\n",
    "lower_bound_Ceftamin = q1_Ceftamin - 1.5 * IQR_Ceftamin\n",
    "list_Ceftamin_withinrange = []\n",
    "\n",
    "for item in list_Ceftamin :\n",
    "    if item < upper_bound_Ceftamin or item > lower_bound_Ceftamin :\n",
    "        list_Ceftamin_withinrange.append(item)\n",
    "\n",
    "print(f\" Total Ceftamin data {len(list_Ceftamin)}\")  \n",
    "\n",
    "print(f\" Total Ceftamin data within range {len(list_Ceftamin_withinrange)}\")\n",
    "    \n",
    "    # add subset \n",
    "\n",
    "    \n",
    "    # Determine outliers using upper and lower bounds\n"
   ]
  },
  {
   "cell_type": "code",
   "execution_count": 236,
   "metadata": {},
   "outputs": [
    {
     "data": {
      "text/plain": [
       "<Axes: title={'center': 'Tumor Volume (mm3)'}, xlabel='Drug Regimen'>"
      ]
     },
     "execution_count": 236,
     "metadata": {},
     "output_type": "execute_result"
    },
    {
     "data": {
      "image/png": "[encoded data removed]",
      "text/plain": [
       "<Figure size 640x480 with 1 Axes>"
      ]
     },
     "metadata": {},
     "output_type": "display_data"
    }
   ],
   "source": [
    "# Generate a box plot that shows the distrubution of the tumor volume for each treatment group.\n",
    "dataframe_Capomulin_all4 = dataframe[(dataframe['Drug Regimen'] == 'Capomulin') | \n",
    "                                     (dataframe['Drug Regimen'] == 'Ramicane')  | \n",
    "                                     (dataframe['Drug Regimen'] == 'Infubinol') |\n",
    "                                     (dataframe['Drug Regimen'] == 'Ceftamin')]   \n",
    "dataframe_Capomulin_all4.boxplot(by ='Drug Regimen', column =['Tumor Volume (mm3)'], grid = False)"
   ]
  },
  {
   "cell_type": "markdown",
   "metadata": {},
   "source": [
    "## Line and Scatter Plots"
   ]
  },
  {
   "cell_type": "code",
   "execution_count": 103,
   "metadata": {},
   "outputs": [
    {
     "data": {
      "image/png": "[encoded data removed]",
      "text/plain": [
       "<Figure size 640x480 with 1 Axes>"
      ]
     },
     "metadata": {},
     "output_type": "display_data"
    }
   ],
   "source": [
    "# Generate a line plot of tumor volume vs. time point for a single mouse treated with Capomulin\n",
    "dataframe = pd.DataFrame(Mouse_Study_Result_Merge_clean, columns = ['Mouse ID','Timepoint', 'Tumor Volume (mm3)' , 'Drug Regimen'])\n",
    "rslt_df = dataframe[dataframe['Drug Regimen'] == 'Capomulin']\n",
    "rslt_df_s185 = rslt_df[rslt_df['Mouse ID'] == 's185']\n",
    "rslt_df_s185\n",
    "plt.plot(rslt_df_s185[\"Timepoint\"], rslt_df_s185[\"Tumor Volume (mm3)\"])\n",
    "plt.xlabel(\"Timepoint ( Days)\")\n",
    "plt.ylabel(\"Tumor Volume (mm3)\")\n",
    "plt.title('Capomulin treatment of mouse s185 ')\n",
    "plt.show()"
   ]
  },
  {
   "cell_type": "code",
   "execution_count": 146,
   "metadata": {},
   "outputs": [
    {
     "name": "stderr",
     "output_type": "stream",
     "text": [
      "C:\\Users\\RMaji\\AppData\\Local\\Temp\\ipykernel_8744\\319197684.py:7: FutureWarning: The default value of numeric_only in DataFrameGroupBy.mean is deprecated. In a future version, numeric_only will default to False. Either specify numeric_only or select only columns which should be valid for the function.\n",
      "  rslt_df_Capomulin_avgweight = rslt_df_Capomulin.groupby(rslt_df_Capomulin['Weight (g)']).mean()\n",
      "C:\\Users\\RMaji\\AppData\\Local\\Temp\\ipykernel_8744\\319197684.py:10: FutureWarning: The default value of numeric_only in DataFrameGroupBy.mean is deprecated. In a future version, numeric_only will default to False. Either specify numeric_only or select only columns which should be valid for the function.\n",
      "  df_grouped_by_tumor_volume = rslt_df_Capomulin.groupby(rslt_df_Capomulin['Weight (g)']).mean()\n"
     ]
    },
    {
     "data": {
      "text/plain": [
       "[Text(0.5, 0, 'Weight (g)'), Text(0, 0.5, 'Average Tumor Volume(mm3)')]"
      ]
     },
     "execution_count": 146,
     "metadata": {},
     "output_type": "execute_result"
    },
    {
     "data": {
      "image/png": "[encoded data removed]",
      "text/plain": [
       "<Figure size 640x480 with 1 Axes>"
      ]
     },
     "metadata": {},
     "output_type": "display_data"
    }
   ],
   "source": [
    "# Generate a scatter plot of mouse weight vs. the average observed tumor volume for the entire Capomulin regimen\n",
    "import seaborn as sns\n",
    "\n",
    "dataframe = pd.DataFrame(Mouse_Study_Result_Merge_clean, columns = ['Weight (g)', 'Tumor Volume (mm3)' , 'Drug Regimen'])\n",
    "rslt_df_Capomulin = dataframe[dataframe['Drug Regimen'] == 'Capomulin']\n",
    "\n",
    "rslt_df_Capomulin_avgweight = rslt_df_Capomulin.groupby(rslt_df_Capomulin['Weight (g)']).mean()\n",
    "\n",
    "\n",
    "df_grouped_by_tumor_volume = rslt_df_Capomulin.groupby(rslt_df_Capomulin['Weight (g)']).mean()\n",
    "\n",
    "scatterplot = sns.scatterplot(data = df_grouped_by_tumor_volume,legend=False)\n",
    "scatterplot.set(xlabel='Weight (g)', ylabel='Average Tumor Volume(mm3)')\n",
    "\n",
    "\n",
    "\n",
    "\n"
   ]
  },
  {
   "cell_type": "markdown",
   "metadata": {},
   "source": [
    "## Correlation and Regression"
   ]
  },
  {
   "cell_type": "code",
   "execution_count": 185,
   "metadata": {},
   "outputs": [
    {
     "name": "stdout",
     "output_type": "stream",
     "text": [
      "correlation coefficient value for entire Capomulin regimen is : 0.95\n"
     ]
    },
    {
     "name": "stderr",
     "output_type": "stream",
     "text": [
      "C:\\Users\\RMaji\\AppData\\Local\\Temp\\ipykernel_8744\\3636029922.py:9: FutureWarning: The default value of numeric_only in DataFrameGroupBy.mean is deprecated. In a future version, numeric_only will default to False. Either specify numeric_only or select only columns which should be valid for the function.\n",
      "  rslt_df_Capomulin_avgweight = rslt_df_Capomulin.groupby(rslt_df_Capomulin['Weight (g)']).mean()\n"
     ]
    },
    {
     "data": {
      "text/html": [
       "\n",
       "<style>\n",
       "  #altair-viz-028b1857b47b472b92417e8f1b12d991.vega-embed {\n",
       "    width: 100%;\n",
       "    display: flex;\n",
       "  }\n",
       "\n",
       "  #altair-viz-028b1857b47b472b92417e8f1b12d991.vega-embed details,\n",
       "  #altair-viz-028b1857b47b472b92417e8f1b12d991.vega-embed details summary {\n",
       "    position: relative;\n",
       "  }\n",
       "</style>\n",
       "<div id=\"altair-viz-028b1857b47b472b92417e8f1b12d991\"></div>\n",
       "<script type=\"text/javascript\">\n",
       "  var VEGA_DEBUG = (typeof VEGA_DEBUG == \"undefined\") ? {} : VEGA_DEBUG;\n",
       "  (function(spec, embedOpt){\n",
       "    let outputDiv = document.currentScript.previousElementSibling;\n",
       "    if (outputDiv.id !== \"altair-viz-028b1857b47b472b92417e8f1b12d991\") {\n",
       "      outputDiv = document.getElementById(\"altair-viz-028b1857b47b472b92417e8f1b12d991\");\n",
       "    }\n",
       "    const paths = {\n",
       "      \"vega\": \"https://cdn.jsdelivr.net/npm/vega@5?noext\",\n",
       "      \"vega-lib\": \"https://cdn.jsdelivr.net/npm/vega-lib?noext\",\n",
       "      \"vega-lite\": \"https://cdn.jsdelivr.net/npm/vega-lite@5.8.0?noext\",\n",
       "      \"vega-embed\": \"https://cdn.jsdelivr.net/npm/vega-embed@6?noext\",\n",
       "    };\n",
       "\n",
       "    function maybeLoadScript(lib, version) {\n",
       "      var key = `${lib.replace(\"-\", \"\")}_version`;\n",
       "      return (VEGA_DEBUG[key] == version) ?\n",
       "        Promise.resolve(paths[lib]) :\n",
       "        new Promise(function(resolve, reject) {\n",
       "          var s = document.createElement('script');\n",
       "          document.getElementsByTagName(\"head\")[0].appendChild(s);\n",
       "          s.async = true;\n",
       "          s.onload = () => {\n",
       "            VEGA_DEBUG[key] = version;\n",
       "            return resolve(paths[lib]);\n",
       "          };\n",
       "          s.onerror = () => reject(`Error loading script: ${paths[lib]}`);\n",
       "          s.src = paths[lib];\n",
       "        });\n",
       "    }\n",
       "\n",
       "    function showError(err) {\n",
       "      outputDiv.innerHTML = `<div class=\"error\" style=\"color:red;\">${err}</div>`;\n",
       "      throw err;\n",
       "    }\n",
       "\n",
       "    function displayChart(vegaEmbed) {\n",
       "      vegaEmbed(outputDiv, spec, embedOpt)\n",
       "        .catch(err => showError(`Javascript Error: ${err.message}<br>This usually means there's a typo in your chart specification. See the javascript console for the full traceback.`));\n",
       "    }\n",
       "\n",
       "    if(typeof define === \"function\" && define.amd) {\n",
       "      requirejs.config({paths});\n",
       "      require([\"vega-embed\"], displayChart, err => showError(`Error loading script: ${err.message}`));\n",
       "    } else {\n",
       "      maybeLoadScript(\"vega\", \"5\")\n",
       "        .then(() => maybeLoadScript(\"vega-lite\", \"5.8.0\"))\n",
       "        .then(() => maybeLoadScript(\"vega-embed\", \"6\"))\n",
       "        .catch(showError)\n",
       "        .then(() => displayChart(vegaEmbed));\n",
       "    }\n",
       "  })({\"config\": {\"view\": {\"continuousWidth\": 300, \"continuousHeight\": 300}}, \"layer\": [{\"mark\": {\"type\": \"point\"}, \"encoding\": {\"x\": {\"field\": \"Weight (g)\", \"scale\": {\"domain\": [12, 28]}, \"type\": \"quantitative\"}, \"y\": {\"field\": \"AVG Tumor Volume\", \"scale\": {\"domain\": [35, 50]}, \"type\": \"quantitative\"}}}, {\"mark\": {\"type\": \"line\"}, \"encoding\": {\"x\": {\"field\": \"Weight (g)\", \"scale\": {\"domain\": [12, 28]}, \"type\": \"quantitative\"}, \"y\": {\"field\": \"AVG Tumor Volume\", \"scale\": {\"domain\": [35, 50]}, \"type\": \"quantitative\"}}, \"transform\": [{\"on\": \"Weight (g)\", \"regression\": \"AVG Tumor Volume\"}]}], \"data\": {\"name\": \"data-fa418e43b0bc22b6c48b5975efade65f\"}, \"$schema\": \"https://vega.github.io/schema/vega-lite/v5.8.0.json\", \"datasets\": {\"data-fa418e43b0bc22b6c48b5975efade65f\": [{\"Weight (g)\": 15, \"AVG Tumor Volume\": 36.182039562}, {\"Weight (g)\": 17, \"AVG Tumor Volume\": 37.21413250092308}, {\"Weight (g)\": 19, \"AVG Tumor Volume\": 41.182391363}, {\"Weight (g)\": 20, \"AVG Tumor Volume\": 39.14105275}, {\"Weight (g)\": 21, \"AVG Tumor Volume\": 42.08870003395833}, {\"Weight (g)\": 22, \"AVG Tumor Volume\": 43.288489764999994}, {\"Weight (g)\": 23, \"AVG Tumor Volume\": 43.34105084869565}, {\"Weight (g)\": 24, \"AVG Tumor Volume\": 44.805809685}, {\"Weight (g)\": 25, \"AVG Tumor Volume\": 44.06210875428571}]}}, {\"mode\": \"vega-lite\"});\n",
       "</script>"
      ],
      "text/plain": [
       "alt.LayerChart(...)"
      ]
     },
     "execution_count": 185,
     "metadata": {},
     "output_type": "execute_result"
    }
   ],
   "source": [
    "# Calculate the correlation coefficient and a linear regression model \n",
    "# for mouse weight and average observed tumor volume for the entire Capomulin regimen\n",
    "import numpy as np\n",
    "import scipy.stats as stats\n",
    "import altair as alt\n",
    "\n",
    "rslt_df_Capomulin = Mouse_Study_Result_Merge_clean[Mouse_Study_Result_Merge_clean['Drug Regimen'] == 'Capomulin']\n",
    "\n",
    "rslt_df_Capomulin_avgweight = rslt_df_Capomulin.groupby(rslt_df_Capomulin['Weight (g)']).mean()\n",
    "rslt_df_Capomulin_avgweight_withcol = rslt_df_Capomulin_avgweight[\"Tumor Volume (mm3)\"].reset_index(name=\"AVG Tumor Volume\")\n",
    "rslt_df_Capomulin_avgweight_withcol\n",
    "r, p = stats.pearsonr(x, y)\n",
    "\n",
    "x = np.array(rslt_df_Capomulin_avgweight_withcol['Weight (g)'])\n",
    "\n",
    "y = np.array(rslt_df_Capomulin_avgweight_withcol['AVG Tumor Volume'])\n",
    "\n",
    "\n",
    "fig = alt.Chart(rslt_df_Capomulin_avgweight_withcol).mark_point().encode(x='Weight (g)', y='AVG Tumor Volume')\n",
    "fig.encoding.x.scale = alt.Scale(domain=[12, 28])\n",
    "fig.encoding.y.scale = alt.Scale(domain=[35, 50])\n",
    "\n",
    "final_plot = fig + fig.transform_regression('Weight (g)','AVG Tumor Volume').mark_line()\n",
    "print (f\"correlation coefficient value for entire Capomulin regimen is : {r.round(2)}\")\n",
    "final_plot\n",
    "\n"
   ]
  },
  {
   "cell_type": "code",
   "execution_count": null,
   "metadata": {},
   "outputs": [],
   "source": []
  }
 ],
 "metadata": {
  "anaconda-cloud": {},
  "kernelspec": {
   "display_name": "Python 3 (ipykernel)",
   "language": "python",
   "name": "python3"
  },
  "language_info": {
   "codemirror_mode": {
    "name": "ipython",
    "version": 3
   },
   "file_extension": ".py",
   "mimetype": "text/x-python",
   "name": "python",
   "nbconvert_exporter": "python",
   "pygments_lexer": "ipython3",
   "version": "3.10.9"
  }
 },
 "nbformat": 4,
 "nbformat_minor": 4
}
